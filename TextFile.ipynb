{
  "cells": [
    {
      "cell_type": "markdown",
      "metadata": {
        "id": "view-in-github",
        "colab_type": "text"
      },
      "source": [
        "<a href=\"https://colab.research.google.com/github/Preksha-Dadoo/UppercaseRace/blob/main/TextFile.ipynb\" target=\"_parent\"><img src=\"https://colab.research.google.com/assets/colab-badge.svg\" alt=\"Open In Colab\"/></a>"
      ]
    },
    {
      "cell_type": "markdown",
      "source": [
        "# Install **compilers**"
      ],
      "metadata": {
        "id": "zZxfvZyX1GWE"
      }
    },
    {
      "cell_type": "code",
      "execution_count": 14,
      "metadata": {
        "colab": {
          "base_uri": "https://localhost:8080/"
        },
        "id": "21leNw9rQkJX",
        "outputId": "5c1786ee-8523-4e77-d9f2-c74b7d3cbc07"
      },
      "outputs": [
        {
          "output_type": "stream",
          "name": "stdout",
          "text": [
            "Hit:1 https://developer.download.nvidia.com/compute/cuda/repos/ubuntu2204/x86_64  InRelease\n",
            "Hit:2 https://cloud.r-project.org/bin/linux/ubuntu jammy-cran40/ InRelease\n",
            "Hit:3 http://security.ubuntu.com/ubuntu jammy-security InRelease\n",
            "Hit:4 https://r2u.stat.illinois.edu/ubuntu jammy InRelease\n",
            "Hit:5 http://archive.ubuntu.com/ubuntu jammy InRelease\n",
            "Hit:6 http://archive.ubuntu.com/ubuntu jammy-updates InRelease\n",
            "Hit:7 http://archive.ubuntu.com/ubuntu jammy-backports InRelease\n",
            "Hit:8 https://ppa.launchpadcontent.net/deadsnakes/ppa/ubuntu jammy InRelease\n",
            "Hit:9 https://ppa.launchpadcontent.net/graphics-drivers/ppa/ubuntu jammy InRelease\n",
            "Hit:10 https://ppa.launchpadcontent.net/ubuntugis/ppa/ubuntu jammy InRelease\n",
            "Reading package lists... Done\n",
            "Building dependency tree... Done\n",
            "Reading state information... Done\n",
            "22 packages can be upgraded. Run 'apt list --upgradable' to see them.\n",
            "\u001b[1;33mW: \u001b[0mSkipping acquire of configured file 'main/source/Sources' as repository 'https://r2u.stat.illinois.edu/ubuntu jammy InRelease' does not seem to provide it (sources.list entry misspelt?)\u001b[0m\n",
            "Reading package lists... Done\n",
            "Building dependency tree... Done\n",
            "Reading state information... Done\n",
            "\u001b[1;31mE: \u001b[0mUnable to locate package openjdk-11-jdk r-base -y\u001b[0m\n"
          ]
        }
      ],
      "source": [
        "#to install necesssary compilers\n",
        "!apt update\n",
        "!apt install gcc g++ openjdk-11-jdk r-base -y"
      ]
    },
    {
      "cell_type": "markdown",
      "metadata": {
        "id": "fKZPZSbuWygA"
      },
      "source": [
        "# Generate Large Text Files"
      ]
    },
    {
      "cell_type": "code",
      "execution_count": 3,
      "metadata": {
        "colab": {
          "base_uri": "https://localhost:8080/"
        },
        "id": "yinGeuvxV7J_",
        "outputId": "87e6555f-c114-463c-a2b8-37c03b58a52a"
      },
      "outputs": [
        {
          "output_type": "stream",
          "name": "stdout",
          "text": [
            "Text files generated successfully!\n"
          ]
        }
      ],
      "source": [
        "import os\n",
        "import random\n",
        "import string\n",
        "\n",
        "def generate_text_file(filename, size_mb):\n",
        "    size_bytes = size_mb * 1024 * 1024\n",
        "    chars = string.ascii_lowercase + \" \\n\"\n",
        "    with open(filename, \"w\") as f:\n",
        "        while os.path.getsize(filename) < size_bytes:\n",
        "            f.write(''.join(random.choices(chars, k=100)) + '\\n')\n",
        "\n",
        "# Generate files\n",
        "for size in [200, 400, 600, 800, 1000]:\n",
        "    generate_text_file(f\"text_{size}MB.txt\", size)\n",
        "\n",
        "print(\"Text files generated successfully!\")"
      ]
    },
    {
      "cell_type": "markdown",
      "source": [
        "# C **PROGRAM**"
      ],
      "metadata": {
        "id": "ORw9_EDV1L6A"
      }
    },
    {
      "cell_type": "code",
      "execution_count": 4,
      "metadata": {
        "colab": {
          "base_uri": "https://localhost:8080/"
        },
        "id": "kSABeH7-ah3f",
        "outputId": "be0dd352-a6be-44f0-f4fc-b196a068ab1a"
      },
      "outputs": [
        {
          "output_type": "stream",
          "name": "stdout",
          "text": [
            "Writing uppercase.c\n"
          ]
        }
      ],
      "source": [
        "%%writefile uppercase.c\n",
        "#include <stdio.h>\n",
        "#include <ctype.h>\n",
        "\n",
        "int main(int argc, char *argv[]) {\n",
        "    if (argc != 3) {\n",
        "        printf(\"Usage: %s input_file output_file\\n\", argv[0]);\n",
        "        return 1;\n",
        "    }\n",
        "\n",
        "    FILE *input = fopen(argv[1], \"r\");\n",
        "    FILE *output = fopen(argv[2], \"w\");\n",
        "\n",
        "    if (!input || !output) {\n",
        "        printf(\"File error!\\n\");\n",
        "        return 1;\n",
        "    }\n",
        "\n",
        "    int ch;\n",
        "    while ((ch = fgetc(input)) != EOF) {\n",
        "        fputc(toupper(ch), output);\n",
        "    }\n",
        "\n",
        "    fclose(input);\n",
        "    fclose(output);\n",
        " return 0;\n",
        "}\n"
      ]
    },
    {
      "cell_type": "code",
      "execution_count": 5,
      "metadata": {
        "id": "mqtlvQcsarXC"
      },
      "outputs": [],
      "source": [
        "!gcc uppercase.c -o uppercase"
      ]
    },
    {
      "cell_type": "markdown",
      "source": [
        "# C++ PROGRAM **bold text**"
      ],
      "metadata": {
        "id": "-BW8Kssq1PiQ"
      }
    },
    {
      "cell_type": "code",
      "execution_count": 6,
      "metadata": {
        "colab": {
          "base_uri": "https://localhost:8080/"
        },
        "id": "5Qw-ml7rbEMA",
        "outputId": "20663f44-e95d-4db5-996a-916f56ddd718"
      },
      "outputs": [
        {
          "output_type": "stream",
          "name": "stdout",
          "text": [
            "Writing uppercase.cpp\n"
          ]
        }
      ],
      "source": [
        "%%writefile uppercase.cpp\n",
        "#include <iostream>\n",
        "#include <fstream>\n",
        "#include <cctype>\n",
        "\n",
        "int main(int argc, char *argv[]) {\n",
        "    if (argc != 3) {\n",
        "        std::cerr << \"Usage: \" << argv[0] << \" input_file output_file\\n\";\n",
        "        return 1;\n",
        "    }\n",
        "\n",
        "    std::ifstream input(argv[1]);\n",
        "    std::ofstream output(argv[2]);\n",
        "\n",
        "    if (!input || !output) {\n",
        "        std::cerr << \"File error!\\n\";\n",
        "        return 1;\n",
        "    }\n",
        "\n",
        "    char ch;\n",
        "    while (input.get(ch)) {\n",
        "        output.put(std::toupper(ch));\n",
        "    }\n",
        "\n",
        "    return 0;\n",
        "}"
      ]
    },
    {
      "cell_type": "code",
      "execution_count": 7,
      "metadata": {
        "colab": {
          "base_uri": "https://localhost:8080/"
        },
        "id": "a_fg7tmHbI_2",
        "outputId": "f80ce33e-bab0-4b53-ca17-fcabb8c714f0"
      },
      "outputs": [
        {
          "output_type": "stream",
          "name": "stdout",
          "text": [
            "\u001b[01m\u001b[Kuppercase.cpp:24:1:\u001b[m\u001b[K \u001b[01;31m\u001b[Kerror: \u001b[m\u001b[Kextended character   is not valid in an identifier\n",
            "   24 | \u001b[01;31m\u001b[K \u001b[m\u001b[K   return 0;\n",
            "      | \u001b[01;31m\u001b[K^\u001b[m\u001b[K\n",
            "\u001b[01m\u001b[Kuppercase.cpp:24:1:\u001b[m\u001b[K \u001b[01;31m\u001b[Kerror: \u001b[m\u001b[Kextended character   is not valid in an identifier\n",
            "\u001b[01m\u001b[Kuppercase.cpp:24:1:\u001b[m\u001b[K \u001b[01;31m\u001b[Kerror: \u001b[m\u001b[Kextended character   is not valid in an identifier\n",
            "\u001b[01m\u001b[Kuppercase.cpp:24:1:\u001b[m\u001b[K \u001b[01;31m\u001b[Kerror: \u001b[m\u001b[Kextended character   is not valid in an identifier\n",
            "\u001b[01m\u001b[Kuppercase.cpp:24:1:\u001b[m\u001b[K \u001b[01;31m\u001b[Kerror: \u001b[m\u001b[Kextended character   is not valid in an identifier\n",
            "\u001b[01m\u001b[Kuppercase.cpp:\u001b[m\u001b[K In function ‘\u001b[01m\u001b[Kint main(int, char**)\u001b[m\u001b[K’:\n",
            "\u001b[01m\u001b[Kuppercase.cpp:24:1:\u001b[m\u001b[K \u001b[01;31m\u001b[Kerror: \u001b[m\u001b[K‘\u001b[01m\u001b[K    return 0\u001b[m\u001b[K’ was not declared in this scope\n",
            "   24 | \u001b[01;31m\u001b[K    return 0\u001b[m\u001b[K;\n",
            "      | \u001b[01;31m\u001b[K^~~~~~~~~~~~\u001b[m\u001b[K\n"
          ]
        }
      ],
      "source": [
        "!g++ uppercase.cpp -o uppercase_cpp"
      ]
    },
    {
      "cell_type": "markdown",
      "source": [
        "# JAVA **PROGRAM**"
      ],
      "metadata": {
        "id": "obSTrqNA1TWI"
      }
    },
    {
      "cell_type": "code",
      "execution_count": 8,
      "metadata": {
        "colab": {
          "base_uri": "https://localhost:8080/"
        },
        "id": "EJRdZs_jbavQ",
        "outputId": "8cd63007-4493-4c37-d46d-301b5735be5f"
      },
      "outputs": [
        {
          "output_type": "stream",
          "name": "stdout",
          "text": [
            "Writing Uppercase.java\n"
          ]
        }
      ],
      "source": [
        "%%writefile Uppercase.java\n",
        "import java.io.*;\n",
        "\n",
        "public class Uppercase {\n",
        "    public static void main(String[] args) throws IOException {\n",
        "        if (args.length != 2) {\n",
        "            System.out.println(\"Usage: java Uppercase input_file output_file\");\n",
        "            return;\n",
        "        }\n",
        "\n",
        "        BufferedReader reader = new BufferedReader(new FileReader(args[0]));\n",
        "        BufferedWriter writer = new BufferedWriter(new FileWriter(args[1]));\n",
        "\n",
        "        int ch;\n",
        "        while ((ch = reader.read()) != -1) {\n",
        "            writer.write(Character.toUpperCase(ch));\n",
        "        }\n",
        "\n",
        "        reader.close();\n",
        "        writer.close();\n",
        "    }\n",
        "}"
      ]
    },
    {
      "cell_type": "code",
      "execution_count": 9,
      "metadata": {
        "colab": {
          "base_uri": "https://localhost:8080/"
        },
        "id": "J6CW560mbrvu",
        "outputId": "496881f9-87d1-4004-dafd-7fef15adf216"
      },
      "outputs": [
        {
          "output_type": "stream",
          "name": "stdout",
          "text": [
            "Uppercase.java:20: error: illegal character: '\\u00a0'\n",
            "    }\n",
            "^\n",
            "Uppercase.java:20: error: illegal character: '\\u00a0'\n",
            "    }\n",
            " ^\n",
            "Uppercase.java:20: error: illegal character: '\\u00a0'\n",
            "    }\n",
            "  ^\n",
            "Uppercase.java:20: error: illegal character: '\\u00a0'\n",
            "    }\n",
            "   ^\n",
            "4 errors\n"
          ]
        }
      ],
      "source": [
        "!javac Uppercase.java"
      ]
    },
    {
      "cell_type": "markdown",
      "source": [
        "# R **PROGRAM**"
      ],
      "metadata": {
        "id": "Tyx2QU7a1Xsa"
      }
    },
    {
      "cell_type": "code",
      "execution_count": 10,
      "metadata": {
        "colab": {
          "base_uri": "https://localhost:8080/"
        },
        "id": "jQUTP-2TbvDq",
        "outputId": "cb78ca0e-1666-4516-c600-1300451873a3"
      },
      "outputs": [
        {
          "output_type": "stream",
          "name": "stdout",
          "text": [
            "Writing uppercase.R\n"
          ]
        }
      ],
      "source": [
        "%%writefile uppercase.R\n",
        "args <- commandArgs(trailingOnly=TRUE)\n",
        "if (length(args) != 2) {\n",
        "  stop(\"Usage: Rscript uppercase.R input_file output_file\")\n",
        "}\n",
        "\n",
        "input_file <- args[1]\n",
        "output_file <- args[2]\n",
        "\n",
        "text <- readLines(input_file, warn=FALSE)\n",
        "text_upper <- toupper(text)\n",
        "writeLines(text_upper, output_file)"
      ]
    },
    {
      "cell_type": "markdown",
      "source": [
        "# PYTHON **PROGRAM**"
      ],
      "metadata": {
        "id": "puSWTe6s1bdT"
      }
    },
    {
      "cell_type": "code",
      "execution_count": 11,
      "metadata": {
        "colab": {
          "base_uri": "https://localhost:8080/"
        },
        "id": "wQ0EKCFIbv3P",
        "outputId": "26f731ec-b446-447d-9fff-76c8a874f6d5"
      },
      "outputs": [
        {
          "output_type": "stream",
          "name": "stdout",
          "text": [
            "Writing uppercase.py\n"
          ]
        }
      ],
      "source": [
        "%%writefile uppercase.py\n",
        "import sys\n",
        "\n",
        "if len(sys.argv) != 3:\n",
        "    print(\"Usage: python uppercase.py input_file output_file\")\n",
        "    sys.exit(1)\n",
        "\n",
        "input_file, output_file = sys.argv[1], sys.argv[2]\n",
        "\n",
        "with open(input_file, \"r\") as infile, open(output_file, \"w\") as outfile:\n",
        "    for line in infile:\n",
        "        outfile.write(line.upper())"
      ]
    },
    {
      "cell_type": "code",
      "execution_count": 12,
      "metadata": {
        "colab": {
          "base_uri": "https://localhost:8080/"
        },
        "id": "lBCHZqQQcEAr",
        "outputId": "6677a4b2-fc04-4afa-dc4a-19b89634acf9"
      },
      "outputs": [
        {
          "output_type": "stream",
          "name": "stdout",
          "text": [
            "C: [4.428628206253052, 5.627104043960571, 12.071990728378296, 13.444430112838745, 13.065125942230225]\n",
            "C++: [0.003315448760986328, 0.002854585647583008, 0.0027625560760498047, 0.0014700889587402344, 0.0029654502868652344]\n",
            "Java: [0.14105844497680664, 0.13226795196533203, 0.1380326747894287, 0.11367630958557129, 0.11819815635681152]\n",
            "R: [60.73535871505737, 141.3159589767456, 205.41508650779724, 336.0612463951111, 446.74318289756775]\n",
            "Python: [5.118396520614624, 6.275243759155273, 12.654934883117676, 15.242119550704956, 18.06221079826355]\n"
          ]
        }
      ],
      "source": [
        "import time\n",
        "import subprocess\n",
        "\n",
        "languages = {\n",
        "    \"C\": \"./uppercase\",\n",
        "    \"C++\": \"./uppercase_cpp\",\n",
        "    \"Java\": \"java Uppercase\",\n",
        "    \"R\": \"Rscript uppercase.R\",\n",
        "    \"Python\": \"python3 uppercase.py\"\n",
        "}\n",
        "\n",
        "file_sizes = [200, 400, 600, 800, 1000]\n",
        "results = {}\n",
        "\n",
        "for lang, command in languages.items():\n",
        "    times = []\n",
        "    for size in file_sizes:\n",
        "        input_file = f\"text_{size}MB.txt\"\n",
        "        output_file = f\"output_{lang.lower()}.txt\"\n",
        "\n",
        "        start = time.time()\n",
        "        subprocess.run(f\"{command} {input_file} {output_file}\", shell=True)\n",
        "        end = time.time()\n",
        "\n",
        "        times.append(end - start)\n",
        "    results[lang] = times\n",
        "\n",
        "# Print results\n",
        "for lang, times in results.items():\n",
        "    print(f\"{lang}: {times}\")"
      ]
    },
    {
      "cell_type": "code",
      "source": [
        "import pandas as pd\n",
        "df = pd.DataFrame(results)\n",
        "\n",
        "# Display DataFrame\n",
        "df"
      ],
      "metadata": {
        "colab": {
          "base_uri": "https://localhost:8080/",
          "height": 206
        },
        "id": "91489UEQ9X-m",
        "outputId": "070786b7-0526-4bf8-e399-bd6ae31bc0c3"
      },
      "execution_count": 15,
      "outputs": [
        {
          "output_type": "execute_result",
          "data": {
            "text/plain": [
              "           C       C++      Java           R     Python\n",
              "0   4.428628  0.003315  0.141058   60.735359   5.118397\n",
              "1   5.627104  0.002855  0.132268  141.315959   6.275244\n",
              "2  12.071991  0.002763  0.138033  205.415087  12.654935\n",
              "3  13.444430  0.001470  0.113676  336.061246  15.242120\n",
              "4  13.065126  0.002965  0.118198  446.743183  18.062211"
            ],
            "text/html": [
              "\n",
              "  <div id=\"df-4e8c3610-be9c-43a5-9f40-6df94dcb2666\" class=\"colab-df-container\">\n",
              "    <div>\n",
              "<style scoped>\n",
              "    .dataframe tbody tr th:only-of-type {\n",
              "        vertical-align: middle;\n",
              "    }\n",
              "\n",
              "    .dataframe tbody tr th {\n",
              "        vertical-align: top;\n",
              "    }\n",
              "\n",
              "    .dataframe thead th {\n",
              "        text-align: right;\n",
              "    }\n",
              "</style>\n",
              "<table border=\"1\" class=\"dataframe\">\n",
              "  <thead>\n",
              "    <tr style=\"text-align: right;\">\n",
              "      <th></th>\n",
              "      <th>C</th>\n",
              "      <th>C++</th>\n",
              "      <th>Java</th>\n",
              "      <th>R</th>\n",
              "      <th>Python</th>\n",
              "    </tr>\n",
              "  </thead>\n",
              "  <tbody>\n",
              "    <tr>\n",
              "      <th>0</th>\n",
              "      <td>4.428628</td>\n",
              "      <td>0.003315</td>\n",
              "      <td>0.141058</td>\n",
              "      <td>60.735359</td>\n",
              "      <td>5.118397</td>\n",
              "    </tr>\n",
              "    <tr>\n",
              "      <th>1</th>\n",
              "      <td>5.627104</td>\n",
              "      <td>0.002855</td>\n",
              "      <td>0.132268</td>\n",
              "      <td>141.315959</td>\n",
              "      <td>6.275244</td>\n",
              "    </tr>\n",
              "    <tr>\n",
              "      <th>2</th>\n",
              "      <td>12.071991</td>\n",
              "      <td>0.002763</td>\n",
              "      <td>0.138033</td>\n",
              "      <td>205.415087</td>\n",
              "      <td>12.654935</td>\n",
              "    </tr>\n",
              "    <tr>\n",
              "      <th>3</th>\n",
              "      <td>13.444430</td>\n",
              "      <td>0.001470</td>\n",
              "      <td>0.113676</td>\n",
              "      <td>336.061246</td>\n",
              "      <td>15.242120</td>\n",
              "    </tr>\n",
              "    <tr>\n",
              "      <th>4</th>\n",
              "      <td>13.065126</td>\n",
              "      <td>0.002965</td>\n",
              "      <td>0.118198</td>\n",
              "      <td>446.743183</td>\n",
              "      <td>18.062211</td>\n",
              "    </tr>\n",
              "  </tbody>\n",
              "</table>\n",
              "</div>\n",
              "    <div class=\"colab-df-buttons\">\n",
              "\n",
              "  <div class=\"colab-df-container\">\n",
              "    <button class=\"colab-df-convert\" onclick=\"convertToInteractive('df-4e8c3610-be9c-43a5-9f40-6df94dcb2666')\"\n",
              "            title=\"Convert this dataframe to an interactive table.\"\n",
              "            style=\"display:none;\">\n",
              "\n",
              "  <svg xmlns=\"http://www.w3.org/2000/svg\" height=\"24px\" viewBox=\"0 -960 960 960\">\n",
              "    <path d=\"M120-120v-720h720v720H120Zm60-500h600v-160H180v160Zm220 220h160v-160H400v160Zm0 220h160v-160H400v160ZM180-400h160v-160H180v160Zm440 0h160v-160H620v160ZM180-180h160v-160H180v160Zm440 0h160v-160H620v160Z\"/>\n",
              "  </svg>\n",
              "    </button>\n",
              "\n",
              "  <style>\n",
              "    .colab-df-container {\n",
              "      display:flex;\n",
              "      gap: 12px;\n",
              "    }\n",
              "\n",
              "    .colab-df-convert {\n",
              "      background-color: #E8F0FE;\n",
              "      border: none;\n",
              "      border-radius: 50%;\n",
              "      cursor: pointer;\n",
              "      display: none;\n",
              "      fill: #1967D2;\n",
              "      height: 32px;\n",
              "      padding: 0 0 0 0;\n",
              "      width: 32px;\n",
              "    }\n",
              "\n",
              "    .colab-df-convert:hover {\n",
              "      background-color: #E2EBFA;\n",
              "      box-shadow: 0px 1px 2px rgba(60, 64, 67, 0.3), 0px 1px 3px 1px rgba(60, 64, 67, 0.15);\n",
              "      fill: #174EA6;\n",
              "    }\n",
              "\n",
              "    .colab-df-buttons div {\n",
              "      margin-bottom: 4px;\n",
              "    }\n",
              "\n",
              "    [theme=dark] .colab-df-convert {\n",
              "      background-color: #3B4455;\n",
              "      fill: #D2E3FC;\n",
              "    }\n",
              "\n",
              "    [theme=dark] .colab-df-convert:hover {\n",
              "      background-color: #434B5C;\n",
              "      box-shadow: 0px 1px 3px 1px rgba(0, 0, 0, 0.15);\n",
              "      filter: drop-shadow(0px 1px 2px rgba(0, 0, 0, 0.3));\n",
              "      fill: #FFFFFF;\n",
              "    }\n",
              "  </style>\n",
              "\n",
              "    <script>\n",
              "      const buttonEl =\n",
              "        document.querySelector('#df-4e8c3610-be9c-43a5-9f40-6df94dcb2666 button.colab-df-convert');\n",
              "      buttonEl.style.display =\n",
              "        google.colab.kernel.accessAllowed ? 'block' : 'none';\n",
              "\n",
              "      async function convertToInteractive(key) {\n",
              "        const element = document.querySelector('#df-4e8c3610-be9c-43a5-9f40-6df94dcb2666');\n",
              "        const dataTable =\n",
              "          await google.colab.kernel.invokeFunction('convertToInteractive',\n",
              "                                                    [key], {});\n",
              "        if (!dataTable) return;\n",
              "\n",
              "        const docLinkHtml = 'Like what you see? Visit the ' +\n",
              "          '<a target=\"_blank\" href=https://colab.research.google.com/notebooks/data_table.ipynb>data table notebook</a>'\n",
              "          + ' to learn more about interactive tables.';\n",
              "        element.innerHTML = '';\n",
              "        dataTable['output_type'] = 'display_data';\n",
              "        await google.colab.output.renderOutput(dataTable, element);\n",
              "        const docLink = document.createElement('div');\n",
              "        docLink.innerHTML = docLinkHtml;\n",
              "        element.appendChild(docLink);\n",
              "      }\n",
              "    </script>\n",
              "  </div>\n",
              "\n",
              "\n",
              "<div id=\"df-ddff218a-1617-445c-be89-661c0e190145\">\n",
              "  <button class=\"colab-df-quickchart\" onclick=\"quickchart('df-ddff218a-1617-445c-be89-661c0e190145')\"\n",
              "            title=\"Suggest charts\"\n",
              "            style=\"display:none;\">\n",
              "\n",
              "<svg xmlns=\"http://www.w3.org/2000/svg\" height=\"24px\"viewBox=\"0 0 24 24\"\n",
              "     width=\"24px\">\n",
              "    <g>\n",
              "        <path d=\"M19 3H5c-1.1 0-2 .9-2 2v14c0 1.1.9 2 2 2h14c1.1 0 2-.9 2-2V5c0-1.1-.9-2-2-2zM9 17H7v-7h2v7zm4 0h-2V7h2v10zm4 0h-2v-4h2v4z\"/>\n",
              "    </g>\n",
              "</svg>\n",
              "  </button>\n",
              "\n",
              "<style>\n",
              "  .colab-df-quickchart {\n",
              "      --bg-color: #E8F0FE;\n",
              "      --fill-color: #1967D2;\n",
              "      --hover-bg-color: #E2EBFA;\n",
              "      --hover-fill-color: #174EA6;\n",
              "      --disabled-fill-color: #AAA;\n",
              "      --disabled-bg-color: #DDD;\n",
              "  }\n",
              "\n",
              "  [theme=dark] .colab-df-quickchart {\n",
              "      --bg-color: #3B4455;\n",
              "      --fill-color: #D2E3FC;\n",
              "      --hover-bg-color: #434B5C;\n",
              "      --hover-fill-color: #FFFFFF;\n",
              "      --disabled-bg-color: #3B4455;\n",
              "      --disabled-fill-color: #666;\n",
              "  }\n",
              "\n",
              "  .colab-df-quickchart {\n",
              "    background-color: var(--bg-color);\n",
              "    border: none;\n",
              "    border-radius: 50%;\n",
              "    cursor: pointer;\n",
              "    display: none;\n",
              "    fill: var(--fill-color);\n",
              "    height: 32px;\n",
              "    padding: 0;\n",
              "    width: 32px;\n",
              "  }\n",
              "\n",
              "  .colab-df-quickchart:hover {\n",
              "    background-color: var(--hover-bg-color);\n",
              "    box-shadow: 0 1px 2px rgba(60, 64, 67, 0.3), 0 1px 3px 1px rgba(60, 64, 67, 0.15);\n",
              "    fill: var(--button-hover-fill-color);\n",
              "  }\n",
              "\n",
              "  .colab-df-quickchart-complete:disabled,\n",
              "  .colab-df-quickchart-complete:disabled:hover {\n",
              "    background-color: var(--disabled-bg-color);\n",
              "    fill: var(--disabled-fill-color);\n",
              "    box-shadow: none;\n",
              "  }\n",
              "\n",
              "  .colab-df-spinner {\n",
              "    border: 2px solid var(--fill-color);\n",
              "    border-color: transparent;\n",
              "    border-bottom-color: var(--fill-color);\n",
              "    animation:\n",
              "      spin 1s steps(1) infinite;\n",
              "  }\n",
              "\n",
              "  @keyframes spin {\n",
              "    0% {\n",
              "      border-color: transparent;\n",
              "      border-bottom-color: var(--fill-color);\n",
              "      border-left-color: var(--fill-color);\n",
              "    }\n",
              "    20% {\n",
              "      border-color: transparent;\n",
              "      border-left-color: var(--fill-color);\n",
              "      border-top-color: var(--fill-color);\n",
              "    }\n",
              "    30% {\n",
              "      border-color: transparent;\n",
              "      border-left-color: var(--fill-color);\n",
              "      border-top-color: var(--fill-color);\n",
              "      border-right-color: var(--fill-color);\n",
              "    }\n",
              "    40% {\n",
              "      border-color: transparent;\n",
              "      border-right-color: var(--fill-color);\n",
              "      border-top-color: var(--fill-color);\n",
              "    }\n",
              "    60% {\n",
              "      border-color: transparent;\n",
              "      border-right-color: var(--fill-color);\n",
              "    }\n",
              "    80% {\n",
              "      border-color: transparent;\n",
              "      border-right-color: var(--fill-color);\n",
              "      border-bottom-color: var(--fill-color);\n",
              "    }\n",
              "    90% {\n",
              "      border-color: transparent;\n",
              "      border-bottom-color: var(--fill-color);\n",
              "    }\n",
              "  }\n",
              "</style>\n",
              "\n",
              "  <script>\n",
              "    async function quickchart(key) {\n",
              "      const quickchartButtonEl =\n",
              "        document.querySelector('#' + key + ' button');\n",
              "      quickchartButtonEl.disabled = true;  // To prevent multiple clicks.\n",
              "      quickchartButtonEl.classList.add('colab-df-spinner');\n",
              "      try {\n",
              "        const charts = await google.colab.kernel.invokeFunction(\n",
              "            'suggestCharts', [key], {});\n",
              "      } catch (error) {\n",
              "        console.error('Error during call to suggestCharts:', error);\n",
              "      }\n",
              "      quickchartButtonEl.classList.remove('colab-df-spinner');\n",
              "      quickchartButtonEl.classList.add('colab-df-quickchart-complete');\n",
              "    }\n",
              "    (() => {\n",
              "      let quickchartButtonEl =\n",
              "        document.querySelector('#df-ddff218a-1617-445c-be89-661c0e190145 button');\n",
              "      quickchartButtonEl.style.display =\n",
              "        google.colab.kernel.accessAllowed ? 'block' : 'none';\n",
              "    })();\n",
              "  </script>\n",
              "</div>\n",
              "\n",
              "  <div id=\"id_e3839d6e-eff2-4caa-b82a-eb8c90df37f9\">\n",
              "    <style>\n",
              "      .colab-df-generate {\n",
              "        background-color: #E8F0FE;\n",
              "        border: none;\n",
              "        border-radius: 50%;\n",
              "        cursor: pointer;\n",
              "        display: none;\n",
              "        fill: #1967D2;\n",
              "        height: 32px;\n",
              "        padding: 0 0 0 0;\n",
              "        width: 32px;\n",
              "      }\n",
              "\n",
              "      .colab-df-generate:hover {\n",
              "        background-color: #E2EBFA;\n",
              "        box-shadow: 0px 1px 2px rgba(60, 64, 67, 0.3), 0px 1px 3px 1px rgba(60, 64, 67, 0.15);\n",
              "        fill: #174EA6;\n",
              "      }\n",
              "\n",
              "      [theme=dark] .colab-df-generate {\n",
              "        background-color: #3B4455;\n",
              "        fill: #D2E3FC;\n",
              "      }\n",
              "\n",
              "      [theme=dark] .colab-df-generate:hover {\n",
              "        background-color: #434B5C;\n",
              "        box-shadow: 0px 1px 3px 1px rgba(0, 0, 0, 0.15);\n",
              "        filter: drop-shadow(0px 1px 2px rgba(0, 0, 0, 0.3));\n",
              "        fill: #FFFFFF;\n",
              "      }\n",
              "    </style>\n",
              "    <button class=\"colab-df-generate\" onclick=\"generateWithVariable('df')\"\n",
              "            title=\"Generate code using this dataframe.\"\n",
              "            style=\"display:none;\">\n",
              "\n",
              "  <svg xmlns=\"http://www.w3.org/2000/svg\" height=\"24px\"viewBox=\"0 0 24 24\"\n",
              "       width=\"24px\">\n",
              "    <path d=\"M7,19H8.4L18.45,9,17,7.55,7,17.6ZM5,21V16.75L18.45,3.32a2,2,0,0,1,2.83,0l1.4,1.43a1.91,1.91,0,0,1,.58,1.4,1.91,1.91,0,0,1-.58,1.4L9.25,21ZM18.45,9,17,7.55Zm-12,3A5.31,5.31,0,0,0,4.9,8.1,5.31,5.31,0,0,0,1,6.5,5.31,5.31,0,0,0,4.9,4.9,5.31,5.31,0,0,0,6.5,1,5.31,5.31,0,0,0,8.1,4.9,5.31,5.31,0,0,0,12,6.5,5.46,5.46,0,0,0,6.5,12Z\"/>\n",
              "  </svg>\n",
              "    </button>\n",
              "    <script>\n",
              "      (() => {\n",
              "      const buttonEl =\n",
              "        document.querySelector('#id_e3839d6e-eff2-4caa-b82a-eb8c90df37f9 button.colab-df-generate');\n",
              "      buttonEl.style.display =\n",
              "        google.colab.kernel.accessAllowed ? 'block' : 'none';\n",
              "\n",
              "      buttonEl.onclick = () => {\n",
              "        google.colab.notebook.generateWithVariable('df');\n",
              "      }\n",
              "      })();\n",
              "    </script>\n",
              "  </div>\n",
              "\n",
              "    </div>\n",
              "  </div>\n"
            ],
            "application/vnd.google.colaboratory.intrinsic+json": {
              "type": "dataframe",
              "variable_name": "df",
              "summary": "{\n  \"name\": \"df\",\n  \"rows\": 5,\n  \"fields\": [\n    {\n      \"column\": \"C\",\n      \"properties\": {\n        \"dtype\": \"number\",\n        \"std\": 4.340024263830034,\n        \"min\": 4.428628206253052,\n        \"max\": 13.444430112838745,\n        \"num_unique_values\": 5,\n        \"samples\": [\n          5.627104043960571,\n          13.065125942230225,\n          12.071990728378296\n        ],\n        \"semantic_type\": \"\",\n        \"description\": \"\"\n      }\n    },\n    {\n      \"column\": \"C++\",\n      \"properties\": {\n        \"dtype\": \"number\",\n        \"std\": 0.0007046726603694092,\n        \"min\": 0.0014700889587402344,\n        \"max\": 0.003315448760986328,\n        \"num_unique_values\": 5,\n        \"samples\": [\n          0.002854585647583008,\n          0.0029654502868652344,\n          0.0027625560760498047\n        ],\n        \"semantic_type\": \"\",\n        \"description\": \"\"\n      }\n    },\n    {\n      \"column\": \"Java\",\n      \"properties\": {\n        \"dtype\": \"number\",\n        \"std\": 0.012129984082195313,\n        \"min\": 0.11367630958557129,\n        \"max\": 0.14105844497680664,\n        \"num_unique_values\": 5,\n        \"samples\": [\n          0.13226795196533203,\n          0.11819815635681152,\n          0.1380326747894287\n        ],\n        \"semantic_type\": \"\",\n        \"description\": \"\"\n      }\n    },\n    {\n      \"column\": \"R\",\n      \"properties\": {\n        \"dtype\": \"number\",\n        \"std\": 154.12822843850998,\n        \"min\": 60.73535871505737,\n        \"max\": 446.74318289756775,\n        \"num_unique_values\": 5,\n        \"samples\": [\n          141.3159589767456,\n          446.74318289756775,\n          205.41508650779724\n        ],\n        \"semantic_type\": \"\",\n        \"description\": \"\"\n      }\n    },\n    {\n      \"column\": \"Python\",\n      \"properties\": {\n        \"dtype\": \"number\",\n        \"std\": 5.621800362506614,\n        \"min\": 5.118396520614624,\n        \"max\": 18.06221079826355,\n        \"num_unique_values\": 5,\n        \"samples\": [\n          6.275243759155273,\n          18.06221079826355,\n          12.654934883117676\n        ],\n        \"semantic_type\": \"\",\n        \"description\": \"\"\n      }\n    }\n  ]\n}"
            }
          },
          "metadata": {},
          "execution_count": 15
        }
      ]
    },
    {
      "cell_type": "code",
      "source": [
        "df.to_csv(\"output.csv\")"
      ],
      "metadata": {
        "id": "3tVW8CAn9f4T"
      },
      "execution_count": 16,
      "outputs": []
    },
    {
      "cell_type": "markdown",
      "source": [
        "# ***Ploting ***"
      ],
      "metadata": {
        "id": "M9aZNcM61sFF"
      }
    },
    {
      "cell_type": "code",
      "source": [
        "import matplotlib.pyplot as plt\n",
        "\n",
        "for lang, times in results.items():\n",
        "    plt.plot(file_sizes, times, marker=\"o\", label=lang)\n",
        "\n",
        "plt.xlabel(\"File Size (MB)\")\n",
        "plt.ylabel(\"Execution Time (s)\")\n",
        "plt.title(\"Uppercase Conversion Performance\")\n",
        "plt.legend()\n",
        "plt.grid()\n",
        "plt.show()"
      ],
      "metadata": {
        "colab": {
          "base_uri": "https://localhost:8080/",
          "height": 472
        },
        "id": "9Rz34FPZ06Aj",
        "outputId": "d7749247-24b8-40cd-e06f-ac66bed90045"
      },
      "execution_count": 13,
      "outputs": [
        {
          "output_type": "display_data",
          "data": {
            "text/plain": [
              "<Figure size 640x480 with 1 Axes>"
            ],
            "image/png": "[encoded data removed]"
          },
          "metadata": {}
        }
      ]
    }
  ],
  "metadata": {
    "colab": {
      "provenance": [],
      "authorship_tag": "ABX9TyPkPm/h57fl0jvJpa9zz9EJ",
      "include_colab_link": true
    },
    "kernelspec": {
      "display_name": "Python 3",
      "name": "python3"
    },
    "language_info": {
      "name": "python"
    }
  },
  "nbformat": 4,
  "nbformat_minor": 0
}